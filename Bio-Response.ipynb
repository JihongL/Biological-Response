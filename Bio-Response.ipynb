{
 "cells": [
  {
   "cell_type": "markdown",
   "metadata": {},
   "source": [
    "# Predicting Biological Response\n",
    "* Beohringer Ingelheim 의 Kaggle project <br> https://www.kaggle.com/c/bioresponse\n",
    "* 특정 성분(molecule)의 생물반응(Biological Response)를 예측하는 프로젝트\n",
    "* logloss가 낮은 모델을 만드는 것이 목표"
   ]
  },
  {
   "cell_type": "code",
   "execution_count": 1031,
   "metadata": {
    "collapsed": true
   },
   "outputs": [],
   "source": [
    "import pandas as pd # Analysis\n",
    "import numpy as np # Analysis\n",
    "from matplotlib import pyplot as plt # Visualize\n",
    "from xgboost import XGBClassifier # Classification model\n",
    "from lightgbm import LGBMClassifier # Classification model\n",
    "from sklearn.ensemble import RandomForestClassifier, GradientBoostingClassifier # Classification model\n",
    "from sklearn.svm import SVC # Classification model\n",
    "from sklearn.decomposition import PCA # Preprocessing\n",
    "from sklearn.preprocessing import StandardScaler # Preprocessing\n",
    "from sklearn.metrics import log_loss # Validation\n",
    "from sklearn.model_selection import GridSearchCV # Validation\n",
    "%matplotlib inline"
   ]
  },
  {
   "cell_type": "markdown",
   "metadata": {},
   "source": [
    "# Data Import"
   ]
  },
  {
   "cell_type": "code",
   "execution_count": 1032,
   "metadata": {
    "collapsed": true
   },
   "outputs": [],
   "source": [
    "df = pd.read_csv('data/train.csv')\n",
    "test = pd.read_csv('data/test.csv')"
   ]
  },
  {
   "cell_type": "code",
   "execution_count": 1033,
   "metadata": {},
   "outputs": [
    {
     "data": {
      "text/html": [
       "<div>\n",
       "<style>\n",
       "    .dataframe thead tr:only-child th {\n",
       "        text-align: right;\n",
       "    }\n",
       "\n",
       "    .dataframe thead th {\n",
       "        text-align: left;\n",
       "    }\n",
       "\n",
       "    .dataframe tbody tr th {\n",
       "        vertical-align: top;\n",
       "    }\n",
       "</style>\n",
       "<table border=\"1\" class=\"dataframe\">\n",
       "  <thead>\n",
       "    <tr style=\"text-align: right;\">\n",
       "      <th></th>\n",
       "      <th>Activity</th>\n",
       "      <th>D1</th>\n",
       "      <th>D2</th>\n",
       "      <th>D3</th>\n",
       "      <th>D4</th>\n",
       "      <th>D5</th>\n",
       "      <th>D6</th>\n",
       "      <th>D7</th>\n",
       "      <th>D8</th>\n",
       "      <th>D9</th>\n",
       "      <th>...</th>\n",
       "      <th>D1767</th>\n",
       "      <th>D1768</th>\n",
       "      <th>D1769</th>\n",
       "      <th>D1770</th>\n",
       "      <th>D1771</th>\n",
       "      <th>D1772</th>\n",
       "      <th>D1773</th>\n",
       "      <th>D1774</th>\n",
       "      <th>D1775</th>\n",
       "      <th>D1776</th>\n",
       "    </tr>\n",
       "  </thead>\n",
       "  <tbody>\n",
       "    <tr>\n",
       "      <th>3746</th>\n",
       "      <td>1</td>\n",
       "      <td>0.033300</td>\n",
       "      <td>0.506409</td>\n",
       "      <td>0.10</td>\n",
       "      <td>0.0</td>\n",
       "      <td>0.209887</td>\n",
       "      <td>0.633426</td>\n",
       "      <td>0.297659</td>\n",
       "      <td>0.376124</td>\n",
       "      <td>0.727093</td>\n",
       "      <td>...</td>\n",
       "      <td>0</td>\n",
       "      <td>0</td>\n",
       "      <td>0</td>\n",
       "      <td>0</td>\n",
       "      <td>0</td>\n",
       "      <td>0</td>\n",
       "      <td>0</td>\n",
       "      <td>0</td>\n",
       "      <td>0</td>\n",
       "      <td>0</td>\n",
       "    </tr>\n",
       "    <tr>\n",
       "      <th>3747</th>\n",
       "      <td>1</td>\n",
       "      <td>0.133333</td>\n",
       "      <td>0.651023</td>\n",
       "      <td>0.15</td>\n",
       "      <td>0.0</td>\n",
       "      <td>0.151154</td>\n",
       "      <td>0.766505</td>\n",
       "      <td>0.170876</td>\n",
       "      <td>0.404546</td>\n",
       "      <td>0.787935</td>\n",
       "      <td>...</td>\n",
       "      <td>0</td>\n",
       "      <td>0</td>\n",
       "      <td>1</td>\n",
       "      <td>0</td>\n",
       "      <td>1</td>\n",
       "      <td>0</td>\n",
       "      <td>1</td>\n",
       "      <td>0</td>\n",
       "      <td>0</td>\n",
       "      <td>0</td>\n",
       "    </tr>\n",
       "    <tr>\n",
       "      <th>3748</th>\n",
       "      <td>0</td>\n",
       "      <td>0.200000</td>\n",
       "      <td>0.520564</td>\n",
       "      <td>0.00</td>\n",
       "      <td>0.0</td>\n",
       "      <td>0.179949</td>\n",
       "      <td>0.768785</td>\n",
       "      <td>0.177341</td>\n",
       "      <td>0.471179</td>\n",
       "      <td>0.872241</td>\n",
       "      <td>...</td>\n",
       "      <td>0</td>\n",
       "      <td>0</td>\n",
       "      <td>0</td>\n",
       "      <td>0</td>\n",
       "      <td>0</td>\n",
       "      <td>0</td>\n",
       "      <td>0</td>\n",
       "      <td>0</td>\n",
       "      <td>0</td>\n",
       "      <td>0</td>\n",
       "    </tr>\n",
       "    <tr>\n",
       "      <th>3749</th>\n",
       "      <td>1</td>\n",
       "      <td>0.100000</td>\n",
       "      <td>0.765646</td>\n",
       "      <td>0.00</td>\n",
       "      <td>0.0</td>\n",
       "      <td>0.536954</td>\n",
       "      <td>0.634936</td>\n",
       "      <td>0.342713</td>\n",
       "      <td>0.447162</td>\n",
       "      <td>0.672689</td>\n",
       "      <td>...</td>\n",
       "      <td>0</td>\n",
       "      <td>0</td>\n",
       "      <td>0</td>\n",
       "      <td>0</td>\n",
       "      <td>0</td>\n",
       "      <td>0</td>\n",
       "      <td>0</td>\n",
       "      <td>0</td>\n",
       "      <td>0</td>\n",
       "      <td>0</td>\n",
       "    </tr>\n",
       "    <tr>\n",
       "      <th>3750</th>\n",
       "      <td>0</td>\n",
       "      <td>0.133333</td>\n",
       "      <td>0.533952</td>\n",
       "      <td>0.00</td>\n",
       "      <td>0.0</td>\n",
       "      <td>0.347966</td>\n",
       "      <td>0.757971</td>\n",
       "      <td>0.230667</td>\n",
       "      <td>0.272652</td>\n",
       "      <td>0.854116</td>\n",
       "      <td>...</td>\n",
       "      <td>0</td>\n",
       "      <td>0</td>\n",
       "      <td>0</td>\n",
       "      <td>0</td>\n",
       "      <td>0</td>\n",
       "      <td>0</td>\n",
       "      <td>0</td>\n",
       "      <td>0</td>\n",
       "      <td>0</td>\n",
       "      <td>0</td>\n",
       "    </tr>\n",
       "  </tbody>\n",
       "</table>\n",
       "<p>5 rows × 1777 columns</p>\n",
       "</div>"
      ],
      "text/plain": [
       "      Activity        D1        D2    D3   D4        D5        D6        D7  \\\n",
       "3746         1  0.033300  0.506409  0.10  0.0  0.209887  0.633426  0.297659   \n",
       "3747         1  0.133333  0.651023  0.15  0.0  0.151154  0.766505  0.170876   \n",
       "3748         0  0.200000  0.520564  0.00  0.0  0.179949  0.768785  0.177341   \n",
       "3749         1  0.100000  0.765646  0.00  0.0  0.536954  0.634936  0.342713   \n",
       "3750         0  0.133333  0.533952  0.00  0.0  0.347966  0.757971  0.230667   \n",
       "\n",
       "            D8        D9  ...    D1767  D1768  D1769  D1770  D1771  D1772  \\\n",
       "3746  0.376124  0.727093  ...        0      0      0      0      0      0   \n",
       "3747  0.404546  0.787935  ...        0      0      1      0      1      0   \n",
       "3748  0.471179  0.872241  ...        0      0      0      0      0      0   \n",
       "3749  0.447162  0.672689  ...        0      0      0      0      0      0   \n",
       "3750  0.272652  0.854116  ...        0      0      0      0      0      0   \n",
       "\n",
       "      D1773  D1774  D1775  D1776  \n",
       "3746      0      0      0      0  \n",
       "3747      1      0      0      0  \n",
       "3748      0      0      0      0  \n",
       "3749      0      0      0      0  \n",
       "3750      0      0      0      0  \n",
       "\n",
       "[5 rows x 1777 columns]"
      ]
     },
     "execution_count": 1033,
     "metadata": {},
     "output_type": "execute_result"
    }
   ],
   "source": [
    "df.tail()"
   ]
  },
  {
   "cell_type": "code",
   "execution_count": 1034,
   "metadata": {},
   "outputs": [
    {
     "data": {
      "text/html": [
       "<div>\n",
       "<style>\n",
       "    .dataframe thead tr:only-child th {\n",
       "        text-align: right;\n",
       "    }\n",
       "\n",
       "    .dataframe thead th {\n",
       "        text-align: left;\n",
       "    }\n",
       "\n",
       "    .dataframe tbody tr th {\n",
       "        vertical-align: top;\n",
       "    }\n",
       "</style>\n",
       "<table border=\"1\" class=\"dataframe\">\n",
       "  <thead>\n",
       "    <tr style=\"text-align: right;\">\n",
       "      <th></th>\n",
       "      <th>D1</th>\n",
       "      <th>D2</th>\n",
       "      <th>D3</th>\n",
       "      <th>D4</th>\n",
       "      <th>D5</th>\n",
       "      <th>D6</th>\n",
       "      <th>D7</th>\n",
       "      <th>D8</th>\n",
       "      <th>D9</th>\n",
       "      <th>D10</th>\n",
       "      <th>...</th>\n",
       "      <th>D1767</th>\n",
       "      <th>D1768</th>\n",
       "      <th>D1769</th>\n",
       "      <th>D1770</th>\n",
       "      <th>D1771</th>\n",
       "      <th>D1772</th>\n",
       "      <th>D1773</th>\n",
       "      <th>D1774</th>\n",
       "      <th>D1775</th>\n",
       "      <th>D1776</th>\n",
       "    </tr>\n",
       "  </thead>\n",
       "  <tbody>\n",
       "    <tr>\n",
       "      <th>2496</th>\n",
       "      <td>0.066700</td>\n",
       "      <td>0.658812</td>\n",
       "      <td>0.10</td>\n",
       "      <td>0.0</td>\n",
       "      <td>0.305799</td>\n",
       "      <td>0.614877</td>\n",
       "      <td>0.180900</td>\n",
       "      <td>0.219328</td>\n",
       "      <td>0.617916</td>\n",
       "      <td>0.324679</td>\n",
       "      <td>...</td>\n",
       "      <td>0</td>\n",
       "      <td>0</td>\n",
       "      <td>0</td>\n",
       "      <td>0</td>\n",
       "      <td>0</td>\n",
       "      <td>0</td>\n",
       "      <td>0</td>\n",
       "      <td>0</td>\n",
       "      <td>0</td>\n",
       "      <td>0</td>\n",
       "    </tr>\n",
       "    <tr>\n",
       "      <th>2497</th>\n",
       "      <td>0.033300</td>\n",
       "      <td>0.451048</td>\n",
       "      <td>0.00</td>\n",
       "      <td>0.0</td>\n",
       "      <td>0.230019</td>\n",
       "      <td>0.849600</td>\n",
       "      <td>0.114983</td>\n",
       "      <td>0.159589</td>\n",
       "      <td>0.916702</td>\n",
       "      <td>0.043200</td>\n",
       "      <td>...</td>\n",
       "      <td>0</td>\n",
       "      <td>0</td>\n",
       "      <td>0</td>\n",
       "      <td>0</td>\n",
       "      <td>0</td>\n",
       "      <td>0</td>\n",
       "      <td>0</td>\n",
       "      <td>0</td>\n",
       "      <td>0</td>\n",
       "      <td>0</td>\n",
       "    </tr>\n",
       "    <tr>\n",
       "      <th>2498</th>\n",
       "      <td>0.000000</td>\n",
       "      <td>0.537887</td>\n",
       "      <td>0.15</td>\n",
       "      <td>0.0</td>\n",
       "      <td>0.144312</td>\n",
       "      <td>0.667734</td>\n",
       "      <td>0.283773</td>\n",
       "      <td>0.591918</td>\n",
       "      <td>0.760417</td>\n",
       "      <td>0.275136</td>\n",
       "      <td>...</td>\n",
       "      <td>0</td>\n",
       "      <td>0</td>\n",
       "      <td>0</td>\n",
       "      <td>0</td>\n",
       "      <td>0</td>\n",
       "      <td>0</td>\n",
       "      <td>0</td>\n",
       "      <td>0</td>\n",
       "      <td>0</td>\n",
       "      <td>0</td>\n",
       "    </tr>\n",
       "    <tr>\n",
       "      <th>2499</th>\n",
       "      <td>0.033300</td>\n",
       "      <td>0.538504</td>\n",
       "      <td>0.10</td>\n",
       "      <td>0.0</td>\n",
       "      <td>0.191739</td>\n",
       "      <td>0.577244</td>\n",
       "      <td>0.305091</td>\n",
       "      <td>0.554121</td>\n",
       "      <td>0.676559</td>\n",
       "      <td>0.385720</td>\n",
       "      <td>...</td>\n",
       "      <td>0</td>\n",
       "      <td>0</td>\n",
       "      <td>0</td>\n",
       "      <td>0</td>\n",
       "      <td>0</td>\n",
       "      <td>0</td>\n",
       "      <td>0</td>\n",
       "      <td>0</td>\n",
       "      <td>0</td>\n",
       "      <td>0</td>\n",
       "    </tr>\n",
       "    <tr>\n",
       "      <th>2500</th>\n",
       "      <td>0.166667</td>\n",
       "      <td>0.648932</td>\n",
       "      <td>0.05</td>\n",
       "      <td>0.0</td>\n",
       "      <td>0.225382</td>\n",
       "      <td>0.619299</td>\n",
       "      <td>0.329329</td>\n",
       "      <td>0.522098</td>\n",
       "      <td>0.704095</td>\n",
       "      <td>0.339546</td>\n",
       "      <td>...</td>\n",
       "      <td>0</td>\n",
       "      <td>0</td>\n",
       "      <td>0</td>\n",
       "      <td>0</td>\n",
       "      <td>0</td>\n",
       "      <td>0</td>\n",
       "      <td>0</td>\n",
       "      <td>0</td>\n",
       "      <td>0</td>\n",
       "      <td>0</td>\n",
       "    </tr>\n",
       "  </tbody>\n",
       "</table>\n",
       "<p>5 rows × 1776 columns</p>\n",
       "</div>"
      ],
      "text/plain": [
       "            D1        D2    D3   D4        D5        D6        D7        D8  \\\n",
       "2496  0.066700  0.658812  0.10  0.0  0.305799  0.614877  0.180900  0.219328   \n",
       "2497  0.033300  0.451048  0.00  0.0  0.230019  0.849600  0.114983  0.159589   \n",
       "2498  0.000000  0.537887  0.15  0.0  0.144312  0.667734  0.283773  0.591918   \n",
       "2499  0.033300  0.538504  0.10  0.0  0.191739  0.577244  0.305091  0.554121   \n",
       "2500  0.166667  0.648932  0.05  0.0  0.225382  0.619299  0.329329  0.522098   \n",
       "\n",
       "            D9       D10  ...    D1767  D1768  D1769  D1770  D1771  D1772  \\\n",
       "2496  0.617916  0.324679  ...        0      0      0      0      0      0   \n",
       "2497  0.916702  0.043200  ...        0      0      0      0      0      0   \n",
       "2498  0.760417  0.275136  ...        0      0      0      0      0      0   \n",
       "2499  0.676559  0.385720  ...        0      0      0      0      0      0   \n",
       "2500  0.704095  0.339546  ...        0      0      0      0      0      0   \n",
       "\n",
       "      D1773  D1774  D1775  D1776  \n",
       "2496      0      0      0      0  \n",
       "2497      0      0      0      0  \n",
       "2498      0      0      0      0  \n",
       "2499      0      0      0      0  \n",
       "2500      0      0      0      0  \n",
       "\n",
       "[5 rows x 1776 columns]"
      ]
     },
     "execution_count": 1034,
     "metadata": {},
     "output_type": "execute_result"
    }
   ],
   "source": [
    "test.tail()"
   ]
  },
  {
   "cell_type": "markdown",
   "metadata": {},
   "source": [
    "* 각 Data Set의 행은 개별 성분을 의미하고, 열은 성분의 특성을 의미한다.\n",
    "* 열을 구성하는 특성에는 분자의 크기와 모양, 구성요소 등이 포함되나, 이름이 D1~D1776으로 대체되었고 그 값도 정규화 되어있다.\n",
    "* 변수값은 연속형과 이산형이 혼합되어있다.\n",
    "* Train Set에는 생물반응 여부가 Activity 열에 표기되어 있다. (없음: 0, 있음: 1)\n",
    "* Train Set은 3750개의 행으로, Test Set은 2500개의 행으로 구성되어 있다."
   ]
  },
  {
   "cell_type": "code",
   "execution_count": 1035,
   "metadata": {},
   "outputs": [
    {
     "data": {
      "text/plain": [
       "1    2034\n",
       "0    1717\n",
       "Name: Activity, dtype: int64"
      ]
     },
     "execution_count": 1035,
     "metadata": {},
     "output_type": "execute_result"
    }
   ],
   "source": [
    "df['Activity'].value_counts()"
   ]
  },
  {
   "cell_type": "markdown",
   "metadata": {},
   "source": [
    "독립변수는 df_X로, 종속변수는 df_y로 분리"
   ]
  },
  {
   "cell_type": "code",
   "execution_count": 1036,
   "metadata": {
    "collapsed": true
   },
   "outputs": [],
   "source": [
    "df_X = df.iloc[:, 1:]"
   ]
  },
  {
   "cell_type": "code",
   "execution_count": 1037,
   "metadata": {
    "scrolled": true
   },
   "outputs": [
    {
     "data": {
      "text/html": [
       "<div>\n",
       "<style>\n",
       "    .dataframe thead tr:only-child th {\n",
       "        text-align: right;\n",
       "    }\n",
       "\n",
       "    .dataframe thead th {\n",
       "        text-align: left;\n",
       "    }\n",
       "\n",
       "    .dataframe tbody tr th {\n",
       "        vertical-align: top;\n",
       "    }\n",
       "</style>\n",
       "<table border=\"1\" class=\"dataframe\">\n",
       "  <thead>\n",
       "    <tr style=\"text-align: right;\">\n",
       "      <th></th>\n",
       "      <th>D1</th>\n",
       "      <th>D2</th>\n",
       "      <th>D3</th>\n",
       "      <th>D4</th>\n",
       "      <th>D5</th>\n",
       "      <th>D6</th>\n",
       "      <th>D7</th>\n",
       "      <th>D8</th>\n",
       "      <th>D9</th>\n",
       "      <th>D10</th>\n",
       "      <th>...</th>\n",
       "      <th>D1767</th>\n",
       "      <th>D1768</th>\n",
       "      <th>D1769</th>\n",
       "      <th>D1770</th>\n",
       "      <th>D1771</th>\n",
       "      <th>D1772</th>\n",
       "      <th>D1773</th>\n",
       "      <th>D1774</th>\n",
       "      <th>D1775</th>\n",
       "      <th>D1776</th>\n",
       "    </tr>\n",
       "  </thead>\n",
       "  <tbody>\n",
       "    <tr>\n",
       "      <th>0</th>\n",
       "      <td>0.000000</td>\n",
       "      <td>0.497009</td>\n",
       "      <td>0.10</td>\n",
       "      <td>0.0</td>\n",
       "      <td>0.132956</td>\n",
       "      <td>0.678031</td>\n",
       "      <td>0.273166</td>\n",
       "      <td>0.585445</td>\n",
       "      <td>0.743663</td>\n",
       "      <td>0.243144</td>\n",
       "      <td>...</td>\n",
       "      <td>0</td>\n",
       "      <td>0</td>\n",
       "      <td>0</td>\n",
       "      <td>0</td>\n",
       "      <td>0</td>\n",
       "      <td>0</td>\n",
       "      <td>0</td>\n",
       "      <td>0</td>\n",
       "      <td>0</td>\n",
       "      <td>0</td>\n",
       "    </tr>\n",
       "    <tr>\n",
       "      <th>1</th>\n",
       "      <td>0.366667</td>\n",
       "      <td>0.606291</td>\n",
       "      <td>0.05</td>\n",
       "      <td>0.0</td>\n",
       "      <td>0.111209</td>\n",
       "      <td>0.803455</td>\n",
       "      <td>0.106105</td>\n",
       "      <td>0.411754</td>\n",
       "      <td>0.836582</td>\n",
       "      <td>0.106480</td>\n",
       "      <td>...</td>\n",
       "      <td>1</td>\n",
       "      <td>1</td>\n",
       "      <td>1</td>\n",
       "      <td>1</td>\n",
       "      <td>0</td>\n",
       "      <td>1</td>\n",
       "      <td>0</td>\n",
       "      <td>0</td>\n",
       "      <td>1</td>\n",
       "      <td>0</td>\n",
       "    </tr>\n",
       "    <tr>\n",
       "      <th>2</th>\n",
       "      <td>0.033300</td>\n",
       "      <td>0.480124</td>\n",
       "      <td>0.00</td>\n",
       "      <td>0.0</td>\n",
       "      <td>0.209791</td>\n",
       "      <td>0.610350</td>\n",
       "      <td>0.356453</td>\n",
       "      <td>0.517720</td>\n",
       "      <td>0.679051</td>\n",
       "      <td>0.352308</td>\n",
       "      <td>...</td>\n",
       "      <td>0</td>\n",
       "      <td>0</td>\n",
       "      <td>0</td>\n",
       "      <td>0</td>\n",
       "      <td>0</td>\n",
       "      <td>0</td>\n",
       "      <td>0</td>\n",
       "      <td>0</td>\n",
       "      <td>0</td>\n",
       "      <td>0</td>\n",
       "    </tr>\n",
       "    <tr>\n",
       "      <th>3</th>\n",
       "      <td>0.000000</td>\n",
       "      <td>0.538825</td>\n",
       "      <td>0.00</td>\n",
       "      <td>0.5</td>\n",
       "      <td>0.196344</td>\n",
       "      <td>0.724230</td>\n",
       "      <td>0.235606</td>\n",
       "      <td>0.288764</td>\n",
       "      <td>0.805110</td>\n",
       "      <td>0.208989</td>\n",
       "      <td>...</td>\n",
       "      <td>0</td>\n",
       "      <td>0</td>\n",
       "      <td>0</td>\n",
       "      <td>0</td>\n",
       "      <td>0</td>\n",
       "      <td>0</td>\n",
       "      <td>0</td>\n",
       "      <td>0</td>\n",
       "      <td>0</td>\n",
       "      <td>0</td>\n",
       "    </tr>\n",
       "    <tr>\n",
       "      <th>4</th>\n",
       "      <td>0.100000</td>\n",
       "      <td>0.517794</td>\n",
       "      <td>0.00</td>\n",
       "      <td>0.0</td>\n",
       "      <td>0.494734</td>\n",
       "      <td>0.781422</td>\n",
       "      <td>0.154361</td>\n",
       "      <td>0.303809</td>\n",
       "      <td>0.812646</td>\n",
       "      <td>0.125177</td>\n",
       "      <td>...</td>\n",
       "      <td>0</td>\n",
       "      <td>0</td>\n",
       "      <td>0</td>\n",
       "      <td>0</td>\n",
       "      <td>0</td>\n",
       "      <td>0</td>\n",
       "      <td>0</td>\n",
       "      <td>0</td>\n",
       "      <td>0</td>\n",
       "      <td>0</td>\n",
       "    </tr>\n",
       "  </tbody>\n",
       "</table>\n",
       "<p>5 rows × 1776 columns</p>\n",
       "</div>"
      ],
      "text/plain": [
       "         D1        D2    D3   D4        D5        D6        D7        D8  \\\n",
       "0  0.000000  0.497009  0.10  0.0  0.132956  0.678031  0.273166  0.585445   \n",
       "1  0.366667  0.606291  0.05  0.0  0.111209  0.803455  0.106105  0.411754   \n",
       "2  0.033300  0.480124  0.00  0.0  0.209791  0.610350  0.356453  0.517720   \n",
       "3  0.000000  0.538825  0.00  0.5  0.196344  0.724230  0.235606  0.288764   \n",
       "4  0.100000  0.517794  0.00  0.0  0.494734  0.781422  0.154361  0.303809   \n",
       "\n",
       "         D9       D10  ...    D1767  D1768  D1769  D1770  D1771  D1772  D1773  \\\n",
       "0  0.743663  0.243144  ...        0      0      0      0      0      0      0   \n",
       "1  0.836582  0.106480  ...        1      1      1      1      0      1      0   \n",
       "2  0.679051  0.352308  ...        0      0      0      0      0      0      0   \n",
       "3  0.805110  0.208989  ...        0      0      0      0      0      0      0   \n",
       "4  0.812646  0.125177  ...        0      0      0      0      0      0      0   \n",
       "\n",
       "   D1774  D1775  D1776  \n",
       "0      0      0      0  \n",
       "1      0      1      0  \n",
       "2      0      0      0  \n",
       "3      0      0      0  \n",
       "4      0      0      0  \n",
       "\n",
       "[5 rows x 1776 columns]"
      ]
     },
     "execution_count": 1037,
     "metadata": {},
     "output_type": "execute_result"
    }
   ],
   "source": [
    "df_X.head()"
   ]
  },
  {
   "cell_type": "code",
   "execution_count": 1038,
   "metadata": {},
   "outputs": [
    {
     "data": {
      "text/html": [
       "<div>\n",
       "<style>\n",
       "    .dataframe thead tr:only-child th {\n",
       "        text-align: right;\n",
       "    }\n",
       "\n",
       "    .dataframe thead th {\n",
       "        text-align: left;\n",
       "    }\n",
       "\n",
       "    .dataframe tbody tr th {\n",
       "        vertical-align: top;\n",
       "    }\n",
       "</style>\n",
       "<table border=\"1\" class=\"dataframe\">\n",
       "  <thead>\n",
       "    <tr style=\"text-align: right;\">\n",
       "      <th></th>\n",
       "      <th>Activity</th>\n",
       "    </tr>\n",
       "  </thead>\n",
       "  <tbody>\n",
       "    <tr>\n",
       "      <th>0</th>\n",
       "      <td>1</td>\n",
       "    </tr>\n",
       "    <tr>\n",
       "      <th>1</th>\n",
       "      <td>1</td>\n",
       "    </tr>\n",
       "    <tr>\n",
       "      <th>2</th>\n",
       "      <td>1</td>\n",
       "    </tr>\n",
       "    <tr>\n",
       "      <th>3</th>\n",
       "      <td>1</td>\n",
       "    </tr>\n",
       "    <tr>\n",
       "      <th>4</th>\n",
       "      <td>0</td>\n",
       "    </tr>\n",
       "  </tbody>\n",
       "</table>\n",
       "</div>"
      ],
      "text/plain": [
       "   Activity\n",
       "0         1\n",
       "1         1\n",
       "2         1\n",
       "3         1\n",
       "4         0"
      ]
     },
     "execution_count": 1038,
     "metadata": {},
     "output_type": "execute_result"
    }
   ],
   "source": [
    "df_y = df.iloc[:, :1]\n",
    "df_y.head()"
   ]
  },
  {
   "cell_type": "markdown",
   "metadata": {},
   "source": [
    "* row는 3750개로 많지 않으나, column이 1776개로 많다.\n",
    "* 변수가 너무 많은 것으로 판단되어 PCA를 적용한 데이터셋을 생성 한다."
   ]
  },
  {
   "cell_type": "code",
   "execution_count": 1039,
   "metadata": {
    "collapsed": true
   },
   "outputs": [],
   "source": [
    "from sklearn.model_selection import train_test_split\n",
    "train_X, test_X, train_y, test_y = train_test_split(df_X, df_y, random_state=0)"
   ]
  },
  {
   "cell_type": "code",
   "execution_count": 1040,
   "metadata": {
    "collapsed": true
   },
   "outputs": [],
   "source": [
    "train_y = train_y.values.ravel()\n",
    "test_y = test_y.values.ravel()"
   ]
  },
  {
   "cell_type": "markdown",
   "metadata": {},
   "source": [
    "# PCA"
   ]
  },
  {
   "cell_type": "code",
   "execution_count": 1041,
   "metadata": {
    "collapsed": true
   },
   "outputs": [],
   "source": [
    "pca = PCA()\n",
    "scaler = StandardScaler()"
   ]
  },
  {
   "cell_type": "code",
   "execution_count": 1042,
   "metadata": {},
   "outputs": [
    {
     "data": {
      "text/plain": [
       "PCA(copy=True, iterated_power='auto', n_components=None, random_state=None,\n",
       "  svd_solver='auto', tol=0.0, whiten=False)"
      ]
     },
     "execution_count": 1042,
     "metadata": {},
     "output_type": "execute_result"
    }
   ],
   "source": [
    "pca.fit(df_X)"
   ]
  },
  {
   "cell_type": "code",
   "execution_count": 1043,
   "metadata": {
    "collapsed": true
   },
   "outputs": [],
   "source": [
    "opt_n = pca.explained_variance_ratio_"
   ]
  },
  {
   "cell_type": "code",
   "execution_count": 1044,
   "metadata": {
    "collapsed": true
   },
   "outputs": [],
   "source": [
    "# 설명력이 90%가 되는 시점의 components 갯수를 출력\n",
    "def optimal_n(start, ratio, x):\n",
    "    n = start\n",
    "    def sum_var(n, ratio, x, comp):\n",
    "        ratio += comp\n",
    "        if ratio >= 0.90:\n",
    "            return '90%: {}, {}'.format(n, ratio)\n",
    "        else:\n",
    "            return optimal_n(n, ratio, x)\n",
    "    comp = x[n]\n",
    "    n += 1\n",
    "    return sum_var(n, ratio, x, comp)"
   ]
  },
  {
   "cell_type": "code",
   "execution_count": 1045,
   "metadata": {},
   "outputs": [
    {
     "data": {
      "text/plain": [
       "'90%: 242, 0.9001024831518873'"
      ]
     },
     "execution_count": 1045,
     "metadata": {},
     "output_type": "execute_result"
    }
   ],
   "source": [
    "optimal_n(0, 0, opt_n)"
   ]
  },
  {
   "cell_type": "markdown",
   "metadata": {},
   "source": [
    "* PCA fit결과, 242개 차원으로 90%의 설명력을 가질 수 있는 것으로 판단된다.\n",
    "* 상기 결과는 전체 데이터 셋을 대상으로 하였으므로, 200개로 PCA를 수행."
   ]
  },
  {
   "cell_type": "code",
   "execution_count": 1046,
   "metadata": {},
   "outputs": [
    {
     "data": {
      "text/plain": [
       "PCA(copy=True, iterated_power='auto', n_components=200, random_state=None,\n",
       "  svd_solver='auto', tol=0.0, whiten=False)"
      ]
     },
     "execution_count": 1046,
     "metadata": {},
     "output_type": "execute_result"
    }
   ],
   "source": [
    "pca = PCA(n_components=200)\n",
    "pca.fit(train_X)"
   ]
  },
  {
   "cell_type": "code",
   "execution_count": 1047,
   "metadata": {
    "collapsed": true
   },
   "outputs": [],
   "source": [
    "pca_train = pca.transform(train_X)\n",
    "pca_test = pca.transform(test_X)\n",
    "pca_train = scaler.fit_transform(pca_train)\n",
    "pca_test = scaler.transform(pca_test)"
   ]
  },
  {
   "cell_type": "code",
   "execution_count": 1048,
   "metadata": {},
   "outputs": [
    {
     "data": {
      "text/plain": [
       "(2813, 200)"
      ]
     },
     "execution_count": 1048,
     "metadata": {},
     "output_type": "execute_result"
    }
   ],
   "source": [
    "pca_train.shape"
   ]
  },
  {
   "cell_type": "code",
   "execution_count": 1049,
   "metadata": {},
   "outputs": [
    {
     "data": {
      "text/plain": [
       "(2813, 1776)"
      ]
     },
     "execution_count": 1049,
     "metadata": {},
     "output_type": "execute_result"
    }
   ],
   "source": [
    "train_X.shape"
   ]
  },
  {
   "cell_type": "markdown",
   "metadata": {},
   "source": [
    "# Model selection\n",
    "* 모델마다 train set, PCA set을 교차하여 검증"
   ]
  },
  {
   "cell_type": "code",
   "execution_count": 1050,
   "metadata": {
    "collapsed": true
   },
   "outputs": [],
   "source": [
    "# Cross Validation\n",
    "def model_cv(train, test, train_y, test_y, model, name):\n",
    "    model.fit(train, train_y)\n",
    "    print(name,': ',model.best_params_)\n",
    "    pred_y = model.predict(test)\n",
    "    print('train score: {}'.format(model.score(train, train_y)))\n",
    "    print('test score: {}'.format(model.score(test, test_y)))\n",
    "    print('log loss: {}'.format(log_loss(test_y, pred_y)))\n",
    "    print()"
   ]
  },
  {
   "cell_type": "code",
   "execution_count": 1051,
   "metadata": {
    "collapsed": true
   },
   "outputs": [],
   "source": [
    "# Models \n",
    "def forest(train, test, train_y, test_y):\n",
    "    param = [{'n_estimators':[100, 300, 500, 1000],\n",
    "         'criterion': ['gini', 'entropy']\n",
    "         }]\n",
    "    model = GridSearchCV(RandomForestClassifier(n_jobs=-1), param, cv=3)\n",
    "    name = 'Random forest'\n",
    "    return model_cv(train, test, train_y, test_y, model, name)\n",
    "    \n",
    "def grbc(train, test, train_y, test_y):\n",
    "    param = [{'n_estimators': [100, 500, 1000],\n",
    "         'learning_rate': [0.1, 0.05, 0.01]}]\n",
    "    name = 'Gradient boosting'\n",
    "    model = GridSearchCV(GradientBoostingClassifier(), param, cv=3)\n",
    "    return model_cv(train, test, train_y, test_y, model, name)\n",
    "    \n",
    "def xgbc(train, test, train_y, test_y):\n",
    "    param = [{'n_estimators': [100, 500, 1000],\n",
    "         'learning_rate': [0.1, 0.05, 0.01],}]\n",
    "    model = GridSearchCV(XGBClassifier(), param)\n",
    "    name = 'XGBoost'\n",
    "    return model_cv(train, test, train_y, test_y, model, name)\n",
    "\n",
    "def lgbm(train, test, train_y, test_y):\n",
    "    param = [{'n_estimators': [100, 500, 1000],\n",
    "         'learning_rate': [0.1, 0.05, 0.01]}]\n",
    "    model = GridSearchCV(LGBMClassifier(), param)\n",
    "    name = 'LightGBM'\n",
    "    return model_cv(train, test, train_y, test_y, model, name)"
   ]
  },
  {
   "cell_type": "code",
   "execution_count": 1052,
   "metadata": {},
   "outputs": [
    {
     "name": "stdout",
     "output_type": "stream",
     "text": [
      "Train set\n",
      "Random forest :  {'criterion': 'gini', 'n_estimators': 500}\n",
      "train score: 1.0\n",
      "test score: 0.7963752665245203\n",
      "log loss: 7.033030120665042\n",
      "\n",
      "PCA set\n",
      "Random forest :  {'criterion': 'entropy', 'n_estimators': 1000}\n",
      "train score: 1.0\n",
      "test score: 0.7579957356076759\n",
      "log loss: 8.358642845317783\n",
      "\n"
     ]
    }
   ],
   "source": [
    "# Random forest\n",
    "\n",
    "print('Train set')\n",
    "forest(train_X, test_X , train_y, test_y)\n",
    "print('PCA set')\n",
    "forest(pca_train, pca_test, train_y, test_y)"
   ]
  },
  {
   "cell_type": "code",
   "execution_count": 503,
   "metadata": {},
   "outputs": [
    {
     "name": "stdout",
     "output_type": "stream",
     "text": [
      "Train set\n",
      "LightGBM :  {'learning_rate': 0.01, 'n_estimators': 1000}\n",
      "train score: 0.9971560611446854\n",
      "test score: 0.8166311300639659\n",
      "log loss: 6.333413969393161\n",
      "\n",
      "PCA set\n",
      "LightGBM :  {'learning_rate': 0.01, 'n_estimators': 1000}\n",
      "train score: 0.9992890152861713\n",
      "test score: 0.779317697228145\n",
      "log loss: 7.622198151216103\n",
      "\n"
     ]
    }
   ],
   "source": [
    "# LightGBM\n",
    "\n",
    "print('Train set')\n",
    "lgbm(train_X, test_X , train_y, test_y)\n",
    "print('PCA set')\n",
    "lgbm(pca_train, pca_test, train_y, test_y)"
   ]
  },
  {
   "cell_type": "code",
   "execution_count": 506,
   "metadata": {},
   "outputs": [
    {
     "name": "stdout",
     "output_type": "stream",
     "text": [
      "Train set\n",
      "XGBoost :  {'learning_rate': 0.1, 'n_estimators': 500}\n",
      "train score: 0.9765375044436545\n",
      "test score: 0.8006396588486141\n",
      "log loss: 6.885744932621564\n",
      "\n",
      "PCA set\n",
      "XGBoost :  {'learning_rate': 0.1, 'n_estimators': 1000}\n",
      "train score: 1.0\n",
      "test score: 0.7707889125799574\n",
      "log loss: 7.916765117505916\n",
      "\n"
     ]
    }
   ],
   "source": [
    "# XGBoost\n",
    "\n",
    "print('Train set')\n",
    "xgbc(train_X, test_X , train_y, test_y)\n",
    "print('PCA set')\n",
    "xgbc(pca_train, pca_test, train_y, test_y)"
   ]
  },
  {
   "cell_type": "code",
   "execution_count": 512,
   "metadata": {},
   "outputs": [
    {
     "name": "stdout",
     "output_type": "stream",
     "text": [
      "Train set\n",
      "Gradient boosting :  {'learning_rate': 0.1, 'n_estimators': 500}\n",
      "train score: 0.9790259509420548\n",
      "test score: 0.7953091684434968\n",
      "log loss: 7.069858663494841\n",
      "\n",
      "PCA set\n",
      "Gradient boosting :  {'learning_rate': 0.01, 'n_estimators': 1000}\n",
      "train score: 0.9057945254177036\n",
      "test score: 0.7643923240938166\n",
      "log loss: 8.137711653455423\n",
      "\n"
     ]
    }
   ],
   "source": [
    "# Gradient Boosting\n",
    "\n",
    "print('Train set')\n",
    "grbc(train_X, test_X , train_y, test_y)\n",
    "print('PCA set')\n",
    "grbc(pca_train, pca_test, train_y, test_y)"
   ]
  },
  {
   "cell_type": "markdown",
   "metadata": {},
   "source": [
    "# PCA is not an answer\n",
    "* PCA를 적용한 set의 결과가 더 좋지 않았음.\n",
    "* 각 변수들이 중복되지 않고 각각의 역할을 한다고 보임.\n",
    "* 이에 새로운 변수를 추가하는 방안을 고려.\n",
    "* 4개 모델의 predict proba를 새로운 변수로 추가."
   ]
  },
  {
   "cell_type": "code",
   "execution_count": 978,
   "metadata": {
    "collapsed": true
   },
   "outputs": [],
   "source": [
    "forest = RandomForestClassifier(criterion='entropy', n_estimators=1000, n_jobs=-1)\n",
    "lgbm = LGBMClassifier(learning_rate=0.01, n_estimators=1000)\n",
    "xgbc = XGBClassifier(learning_rate=0.1, n_estimators=500)\n",
    "grbc = GradientBoostingClassifier(learning_rate=0.1, n_estimators=500)\n",
    "models = [forest, lgbm, xgbc, grbc]"
   ]
  },
  {
   "cell_type": "code",
   "execution_count": 979,
   "metadata": {},
   "outputs": [
    {
     "data": {
      "text/plain": [
       "GradientBoostingClassifier(criterion='friedman_mse', init=None,\n",
       "              learning_rate=0.1, loss='deviance', max_depth=3,\n",
       "              max_features=None, max_leaf_nodes=None,\n",
       "              min_impurity_split=1e-07, min_samples_leaf=1,\n",
       "              min_samples_split=2, min_weight_fraction_leaf=0.0,\n",
       "              n_estimators=500, presort='auto', random_state=None,\n",
       "              subsample=1.0, verbose=0, warm_start=False)"
      ]
     },
     "execution_count": 979,
     "metadata": {},
     "output_type": "execute_result"
    }
   ],
   "source": [
    "forest.fit(train_X, train_y)\n",
    "lgbm.fit(train_X, train_y)\n",
    "xgbc.fit(train_X, train_y)\n",
    "grbc.fit(train_X, train_y)"
   ]
  },
  {
   "cell_type": "code",
   "execution_count": 980,
   "metadata": {},
   "outputs": [],
   "source": [
    "add = pd.DataFrame({0:[]})\n",
    "\n",
    "train_forest = forest.predict_proba(train_X)\n",
    "train_lgbm = lgbm.predict_proba(train_X)\n",
    "train_xgbc = xgbc.predict_proba(train_X)\n",
    "train_grbc = grbc.predict_proba(train_X)"
   ]
  },
  {
   "cell_type": "code",
   "execution_count": 981,
   "metadata": {},
   "outputs": [],
   "source": [
    "tf_X = train_X.copy()\n",
    "tf_X[0] = pd.DataFrame(train_forest[:,1])\n",
    "tf_X[1] = pd.DataFrame(train_lgbm[:,1])\n",
    "tf_X[2] = pd.DataFrame(train_xgbc[:,1])\n",
    "tf_X[3] = pd.DataFrame(train_grbc[:,1])"
   ]
  },
  {
   "cell_type": "code",
   "execution_count": 982,
   "metadata": {
    "scrolled": true
   },
   "outputs": [
    {
     "data": {
      "text/html": [
       "<div>\n",
       "<style>\n",
       "    .dataframe thead tr:only-child th {\n",
       "        text-align: right;\n",
       "    }\n",
       "\n",
       "    .dataframe thead th {\n",
       "        text-align: left;\n",
       "    }\n",
       "\n",
       "    .dataframe tbody tr th {\n",
       "        vertical-align: top;\n",
       "    }\n",
       "</style>\n",
       "<table border=\"1\" class=\"dataframe\">\n",
       "  <thead>\n",
       "    <tr style=\"text-align: right;\">\n",
       "      <th></th>\n",
       "      <th>D1</th>\n",
       "      <th>D2</th>\n",
       "      <th>D3</th>\n",
       "      <th>D4</th>\n",
       "      <th>D5</th>\n",
       "      <th>D6</th>\n",
       "      <th>D7</th>\n",
       "      <th>D8</th>\n",
       "      <th>D9</th>\n",
       "      <th>D10</th>\n",
       "      <th>...</th>\n",
       "      <th>D1771</th>\n",
       "      <th>D1772</th>\n",
       "      <th>D1773</th>\n",
       "      <th>D1774</th>\n",
       "      <th>D1775</th>\n",
       "      <th>D1776</th>\n",
       "      <th>0</th>\n",
       "      <th>1</th>\n",
       "      <th>2</th>\n",
       "      <th>3</th>\n",
       "    </tr>\n",
       "  </thead>\n",
       "  <tbody>\n",
       "    <tr>\n",
       "      <th>704</th>\n",
       "      <td>0.133333</td>\n",
       "      <td>0.661264</td>\n",
       "      <td>0.0</td>\n",
       "      <td>0.00</td>\n",
       "      <td>0.290186</td>\n",
       "      <td>0.668006</td>\n",
       "      <td>0.278627</td>\n",
       "      <td>0.472782</td>\n",
       "      <td>0.750612</td>\n",
       "      <td>0.259261</td>\n",
       "      <td>...</td>\n",
       "      <td>0</td>\n",
       "      <td>0</td>\n",
       "      <td>0</td>\n",
       "      <td>0</td>\n",
       "      <td>0</td>\n",
       "      <td>0</td>\n",
       "      <td>0.123</td>\n",
       "      <td>0.030177</td>\n",
       "      <td>0.028683</td>\n",
       "      <td>0.032053</td>\n",
       "    </tr>\n",
       "    <tr>\n",
       "      <th>76</th>\n",
       "      <td>0.000000</td>\n",
       "      <td>0.597969</td>\n",
       "      <td>0.0</td>\n",
       "      <td>0.00</td>\n",
       "      <td>0.266245</td>\n",
       "      <td>0.624966</td>\n",
       "      <td>0.410535</td>\n",
       "      <td>0.604793</td>\n",
       "      <td>0.752670</td>\n",
       "      <td>0.365163</td>\n",
       "      <td>...</td>\n",
       "      <td>0</td>\n",
       "      <td>0</td>\n",
       "      <td>0</td>\n",
       "      <td>0</td>\n",
       "      <td>0</td>\n",
       "      <td>0</td>\n",
       "      <td>0.209</td>\n",
       "      <td>0.199541</td>\n",
       "      <td>0.228988</td>\n",
       "      <td>0.274487</td>\n",
       "    </tr>\n",
       "    <tr>\n",
       "      <th>3460</th>\n",
       "      <td>0.033300</td>\n",
       "      <td>0.597146</td>\n",
       "      <td>0.1</td>\n",
       "      <td>0.00</td>\n",
       "      <td>0.112010</td>\n",
       "      <td>0.627221</td>\n",
       "      <td>0.414013</td>\n",
       "      <td>0.610064</td>\n",
       "      <td>0.739563</td>\n",
       "      <td>0.379890</td>\n",
       "      <td>...</td>\n",
       "      <td>0</td>\n",
       "      <td>0</td>\n",
       "      <td>0</td>\n",
       "      <td>0</td>\n",
       "      <td>0</td>\n",
       "      <td>0</td>\n",
       "      <td>NaN</td>\n",
       "      <td>NaN</td>\n",
       "      <td>NaN</td>\n",
       "      <td>NaN</td>\n",
       "    </tr>\n",
       "    <tr>\n",
       "      <th>905</th>\n",
       "      <td>0.000000</td>\n",
       "      <td>0.660245</td>\n",
       "      <td>0.1</td>\n",
       "      <td>0.00</td>\n",
       "      <td>0.141600</td>\n",
       "      <td>0.611352</td>\n",
       "      <td>0.396943</td>\n",
       "      <td>0.612558</td>\n",
       "      <td>0.703160</td>\n",
       "      <td>0.364433</td>\n",
       "      <td>...</td>\n",
       "      <td>0</td>\n",
       "      <td>0</td>\n",
       "      <td>0</td>\n",
       "      <td>0</td>\n",
       "      <td>0</td>\n",
       "      <td>0</td>\n",
       "      <td>0.983</td>\n",
       "      <td>0.961682</td>\n",
       "      <td>0.971290</td>\n",
       "      <td>0.931981</td>\n",
       "    </tr>\n",
       "    <tr>\n",
       "      <th>9</th>\n",
       "      <td>0.100000</td>\n",
       "      <td>0.768150</td>\n",
       "      <td>0.1</td>\n",
       "      <td>0.25</td>\n",
       "      <td>0.262299</td>\n",
       "      <td>0.598972</td>\n",
       "      <td>0.377065</td>\n",
       "      <td>0.394514</td>\n",
       "      <td>0.673797</td>\n",
       "      <td>0.343472</td>\n",
       "      <td>...</td>\n",
       "      <td>0</td>\n",
       "      <td>0</td>\n",
       "      <td>0</td>\n",
       "      <td>0</td>\n",
       "      <td>0</td>\n",
       "      <td>0</td>\n",
       "      <td>0.843</td>\n",
       "      <td>0.878184</td>\n",
       "      <td>0.641850</td>\n",
       "      <td>0.686951</td>\n",
       "    </tr>\n",
       "  </tbody>\n",
       "</table>\n",
       "<p>5 rows × 1780 columns</p>\n",
       "</div>"
      ],
      "text/plain": [
       "            D1        D2   D3    D4        D5        D6        D7        D8  \\\n",
       "704   0.133333  0.661264  0.0  0.00  0.290186  0.668006  0.278627  0.472782   \n",
       "76    0.000000  0.597969  0.0  0.00  0.266245  0.624966  0.410535  0.604793   \n",
       "3460  0.033300  0.597146  0.1  0.00  0.112010  0.627221  0.414013  0.610064   \n",
       "905   0.000000  0.660245  0.1  0.00  0.141600  0.611352  0.396943  0.612558   \n",
       "9     0.100000  0.768150  0.1  0.25  0.262299  0.598972  0.377065  0.394514   \n",
       "\n",
       "            D9       D10    ...     D1771  D1772  D1773  D1774  D1775  D1776  \\\n",
       "704   0.750612  0.259261    ...         0      0      0      0      0      0   \n",
       "76    0.752670  0.365163    ...         0      0      0      0      0      0   \n",
       "3460  0.739563  0.379890    ...         0      0      0      0      0      0   \n",
       "905   0.703160  0.364433    ...         0      0      0      0      0      0   \n",
       "9     0.673797  0.343472    ...         0      0      0      0      0      0   \n",
       "\n",
       "          0         1         2         3  \n",
       "704   0.123  0.030177  0.028683  0.032053  \n",
       "76    0.209  0.199541  0.228988  0.274487  \n",
       "3460    NaN       NaN       NaN       NaN  \n",
       "905   0.983  0.961682  0.971290  0.931981  \n",
       "9     0.843  0.878184  0.641850  0.686951  \n",
       "\n",
       "[5 rows x 1780 columns]"
      ]
     },
     "execution_count": 982,
     "metadata": {},
     "output_type": "execute_result"
    }
   ],
   "source": [
    "tf_X.head()"
   ]
  },
  {
   "cell_type": "code",
   "execution_count": 983,
   "metadata": {},
   "outputs": [],
   "source": [
    "test_forest = forest.predict_proba(test_X)\n",
    "test_lgbm = lgbm.predict_proba(test_X)\n",
    "test_xgbc = xgbc.predict_proba(test_X)\n",
    "test_grbc = grbc.predict_proba(test_X)"
   ]
  },
  {
   "cell_type": "code",
   "execution_count": 984,
   "metadata": {
    "collapsed": true
   },
   "outputs": [],
   "source": [
    "testf_X = test_X.copy()"
   ]
  },
  {
   "cell_type": "code",
   "execution_count": 985,
   "metadata": {},
   "outputs": [],
   "source": [
    "testf_X[0] = pd.DataFrame(test_forest[:,1])\n",
    "testf_X[1] = pd.DataFrame(test_lgbm[:,1])\n",
    "testf_X[2] = pd.DataFrame(test_xgbc[:,1])\n",
    "testf_X[3] = pd.DataFrame(test_grbc[:,1])"
   ]
  },
  {
   "cell_type": "code",
   "execution_count": 986,
   "metadata": {},
   "outputs": [],
   "source": [
    "tf_X = tf_X.fillna(0)\n",
    "testf_X = testf_X.fillna(0)"
   ]
  },
  {
   "cell_type": "code",
   "execution_count": 987,
   "metadata": {
    "collapsed": true
   },
   "outputs": [],
   "source": [
    "forest_ = RandomForestClassifier(criterion='entropy', n_estimators=1000, n_jobs=-1)\n",
    "lgbm_ = LGBMClassifier(learning_rate=0.01, n_estimators=1000)\n",
    "xgbc_ = XGBClassifier(learning_rate=0.1, n_estimators=500)\n",
    "grbc_ = GradientBoostingClassifier(learning_rate=0.1, n_estimators=500)"
   ]
  },
  {
   "cell_type": "code",
   "execution_count": 1002,
   "metadata": {},
   "outputs": [
    {
     "name": "stdout",
     "output_type": "stream",
     "text": [
      "1.0\n",
      "0.799573560768\n",
      "log loss: 0.47331798578060846\n"
     ]
    }
   ],
   "source": [
    "forest_.fit(tf_X, train_y)\n",
    "print(forest_.score(tf_X, train_y))\n",
    "print(forest_.score(testf_X, test_y))\n",
    "pred_y = forest_.predict_proba(testf_X)\n",
    "print('log loss: {}'.format(log_loss(test_y, pred_y)))"
   ]
  },
  {
   "cell_type": "code",
   "execution_count": 1003,
   "metadata": {},
   "outputs": [
    {
     "name": "stdout",
     "output_type": "stream",
     "text": [
      "0.998222538215\n",
      "0.794243070362\n",
      "log loss: 0.47775719952956947\n"
     ]
    }
   ],
   "source": [
    "lgbm_.fit(tf_X, train_y)\n",
    "print(lgbm_.score(tf_X, train_y))\n",
    "print(lgbm_.score(testf_X, test_y))\n",
    "pred_y = lgbm_.predict_proba(testf_X)\n",
    "print('log loss: {}'.format(log_loss(test_y, pred_y)))"
   ]
  },
  {
   "cell_type": "code",
   "execution_count": 1004,
   "metadata": {},
   "outputs": [
    {
     "name": "stdout",
     "output_type": "stream",
     "text": [
      "0.983647351582\n",
      "0.796375266525\n",
      "log loss: 0.49151201889592544\n"
     ]
    }
   ],
   "source": [
    "xgbc_.fit(tf_X, train_y)\n",
    "print(xgbc_.score(tf_X, train_y))\n",
    "print(xgbc_.score(testf_X, test_y))\n",
    "pred_y = xgbc_.predict_proba(testf_X)\n",
    "print('log loss: {}'.format(log_loss(test_y, pred_y)))"
   ]
  },
  {
   "cell_type": "code",
   "execution_count": 1005,
   "metadata": {},
   "outputs": [
    {
     "name": "stdout",
     "output_type": "stream",
     "text": [
      "0.982225382154\n",
      "0.796375266525\n",
      "log loss: 0.48166088042389765\n"
     ]
    }
   ],
   "source": [
    "grbc_.fit(tf_X, train_y)\n",
    "print(grbc_.score(tf_X, train_y))\n",
    "print(grbc_.score(testf_X, test_y))\n",
    "pred_y = grbc_.predict_proba(testf_X)\n",
    "print('log loss: {}'.format(log_loss(test_y, pred_y)))"
   ]
  },
  {
   "cell_type": "markdown",
   "metadata": {},
   "source": [
    "# Submit"
   ]
  },
  {
   "cell_type": "code",
   "execution_count": 1006,
   "metadata": {
    "collapsed": true
   },
   "outputs": [],
   "source": [
    "test = pd.read_csv('data/test.csv')"
   ]
  },
  {
   "cell_type": "code",
   "execution_count": 1007,
   "metadata": {},
   "outputs": [
    {
     "data": {
      "text/html": [
       "<div>\n",
       "<style>\n",
       "    .dataframe thead tr:only-child th {\n",
       "        text-align: right;\n",
       "    }\n",
       "\n",
       "    .dataframe thead th {\n",
       "        text-align: left;\n",
       "    }\n",
       "\n",
       "    .dataframe tbody tr th {\n",
       "        vertical-align: top;\n",
       "    }\n",
       "</style>\n",
       "<table border=\"1\" class=\"dataframe\">\n",
       "  <thead>\n",
       "    <tr style=\"text-align: right;\">\n",
       "      <th></th>\n",
       "      <th>D1</th>\n",
       "      <th>D2</th>\n",
       "      <th>D3</th>\n",
       "      <th>D4</th>\n",
       "      <th>D5</th>\n",
       "      <th>D6</th>\n",
       "      <th>D7</th>\n",
       "      <th>D8</th>\n",
       "      <th>D9</th>\n",
       "      <th>D10</th>\n",
       "      <th>...</th>\n",
       "      <th>D1767</th>\n",
       "      <th>D1768</th>\n",
       "      <th>D1769</th>\n",
       "      <th>D1770</th>\n",
       "      <th>D1771</th>\n",
       "      <th>D1772</th>\n",
       "      <th>D1773</th>\n",
       "      <th>D1774</th>\n",
       "      <th>D1775</th>\n",
       "      <th>D1776</th>\n",
       "    </tr>\n",
       "  </thead>\n",
       "  <tbody>\n",
       "    <tr>\n",
       "      <th>2496</th>\n",
       "      <td>0.066700</td>\n",
       "      <td>0.658812</td>\n",
       "      <td>0.10</td>\n",
       "      <td>0.0</td>\n",
       "      <td>0.305799</td>\n",
       "      <td>0.614877</td>\n",
       "      <td>0.180900</td>\n",
       "      <td>0.219328</td>\n",
       "      <td>0.617916</td>\n",
       "      <td>0.324679</td>\n",
       "      <td>...</td>\n",
       "      <td>0</td>\n",
       "      <td>0</td>\n",
       "      <td>0</td>\n",
       "      <td>0</td>\n",
       "      <td>0</td>\n",
       "      <td>0</td>\n",
       "      <td>0</td>\n",
       "      <td>0</td>\n",
       "      <td>0</td>\n",
       "      <td>0</td>\n",
       "    </tr>\n",
       "    <tr>\n",
       "      <th>2497</th>\n",
       "      <td>0.033300</td>\n",
       "      <td>0.451048</td>\n",
       "      <td>0.00</td>\n",
       "      <td>0.0</td>\n",
       "      <td>0.230019</td>\n",
       "      <td>0.849600</td>\n",
       "      <td>0.114983</td>\n",
       "      <td>0.159589</td>\n",
       "      <td>0.916702</td>\n",
       "      <td>0.043200</td>\n",
       "      <td>...</td>\n",
       "      <td>0</td>\n",
       "      <td>0</td>\n",
       "      <td>0</td>\n",
       "      <td>0</td>\n",
       "      <td>0</td>\n",
       "      <td>0</td>\n",
       "      <td>0</td>\n",
       "      <td>0</td>\n",
       "      <td>0</td>\n",
       "      <td>0</td>\n",
       "    </tr>\n",
       "    <tr>\n",
       "      <th>2498</th>\n",
       "      <td>0.000000</td>\n",
       "      <td>0.537887</td>\n",
       "      <td>0.15</td>\n",
       "      <td>0.0</td>\n",
       "      <td>0.144312</td>\n",
       "      <td>0.667734</td>\n",
       "      <td>0.283773</td>\n",
       "      <td>0.591918</td>\n",
       "      <td>0.760417</td>\n",
       "      <td>0.275136</td>\n",
       "      <td>...</td>\n",
       "      <td>0</td>\n",
       "      <td>0</td>\n",
       "      <td>0</td>\n",
       "      <td>0</td>\n",
       "      <td>0</td>\n",
       "      <td>0</td>\n",
       "      <td>0</td>\n",
       "      <td>0</td>\n",
       "      <td>0</td>\n",
       "      <td>0</td>\n",
       "    </tr>\n",
       "    <tr>\n",
       "      <th>2499</th>\n",
       "      <td>0.033300</td>\n",
       "      <td>0.538504</td>\n",
       "      <td>0.10</td>\n",
       "      <td>0.0</td>\n",
       "      <td>0.191739</td>\n",
       "      <td>0.577244</td>\n",
       "      <td>0.305091</td>\n",
       "      <td>0.554121</td>\n",
       "      <td>0.676559</td>\n",
       "      <td>0.385720</td>\n",
       "      <td>...</td>\n",
       "      <td>0</td>\n",
       "      <td>0</td>\n",
       "      <td>0</td>\n",
       "      <td>0</td>\n",
       "      <td>0</td>\n",
       "      <td>0</td>\n",
       "      <td>0</td>\n",
       "      <td>0</td>\n",
       "      <td>0</td>\n",
       "      <td>0</td>\n",
       "    </tr>\n",
       "    <tr>\n",
       "      <th>2500</th>\n",
       "      <td>0.166667</td>\n",
       "      <td>0.648932</td>\n",
       "      <td>0.05</td>\n",
       "      <td>0.0</td>\n",
       "      <td>0.225382</td>\n",
       "      <td>0.619299</td>\n",
       "      <td>0.329329</td>\n",
       "      <td>0.522098</td>\n",
       "      <td>0.704095</td>\n",
       "      <td>0.339546</td>\n",
       "      <td>...</td>\n",
       "      <td>0</td>\n",
       "      <td>0</td>\n",
       "      <td>0</td>\n",
       "      <td>0</td>\n",
       "      <td>0</td>\n",
       "      <td>0</td>\n",
       "      <td>0</td>\n",
       "      <td>0</td>\n",
       "      <td>0</td>\n",
       "      <td>0</td>\n",
       "    </tr>\n",
       "  </tbody>\n",
       "</table>\n",
       "<p>5 rows × 1776 columns</p>\n",
       "</div>"
      ],
      "text/plain": [
       "            D1        D2    D3   D4        D5        D6        D7        D8  \\\n",
       "2496  0.066700  0.658812  0.10  0.0  0.305799  0.614877  0.180900  0.219328   \n",
       "2497  0.033300  0.451048  0.00  0.0  0.230019  0.849600  0.114983  0.159589   \n",
       "2498  0.000000  0.537887  0.15  0.0  0.144312  0.667734  0.283773  0.591918   \n",
       "2499  0.033300  0.538504  0.10  0.0  0.191739  0.577244  0.305091  0.554121   \n",
       "2500  0.166667  0.648932  0.05  0.0  0.225382  0.619299  0.329329  0.522098   \n",
       "\n",
       "            D9       D10  ...    D1767  D1768  D1769  D1770  D1771  D1772  \\\n",
       "2496  0.617916  0.324679  ...        0      0      0      0      0      0   \n",
       "2497  0.916702  0.043200  ...        0      0      0      0      0      0   \n",
       "2498  0.760417  0.275136  ...        0      0      0      0      0      0   \n",
       "2499  0.676559  0.385720  ...        0      0      0      0      0      0   \n",
       "2500  0.704095  0.339546  ...        0      0      0      0      0      0   \n",
       "\n",
       "      D1773  D1774  D1775  D1776  \n",
       "2496      0      0      0      0  \n",
       "2497      0      0      0      0  \n",
       "2498      0      0      0      0  \n",
       "2499      0      0      0      0  \n",
       "2500      0      0      0      0  \n",
       "\n",
       "[5 rows x 1776 columns]"
      ]
     },
     "execution_count": 1007,
     "metadata": {},
     "output_type": "execute_result"
    }
   ],
   "source": [
    "test.tail()"
   ]
  },
  {
   "cell_type": "code",
   "execution_count": 1008,
   "metadata": {
    "collapsed": true
   },
   "outputs": [],
   "source": [
    "y = np.zeros(len(test))"
   ]
  },
  {
   "cell_type": "code",
   "execution_count": 1009,
   "metadata": {
    "collapsed": true
   },
   "outputs": [],
   "source": [
    "def add_col(X, y, models, n):\n",
    "    add = pd.DataFrame({n:[]})\n",
    "    return prob(X, y, models, n, add)\n",
    "\n",
    "def prob(X, y, models, n, add):\n",
    "    if n < len(models):\n",
    "        model = models[n]\n",
    "        model.fit(X, y.values.ravel())\n",
    "        proba = model.predict_proba(X)[:,1]\n",
    "        add[n] = pd.Series(proba, index=X.index)\n",
    "        n += 1\n",
    "        return prob(X, y, models, n, add)\n",
    "    X = pd.concat([X, add], axis=1)\n",
    "    return X"
   ]
  },
  {
   "cell_type": "code",
   "execution_count": 1010,
   "metadata": {
    "collapsed": true
   },
   "outputs": [],
   "source": [
    "tf = test.copy()"
   ]
  },
  {
   "cell_type": "code",
   "execution_count": 1011,
   "metadata": {},
   "outputs": [],
   "source": [
    "test_forest = forest.predict_proba(test)\n",
    "test_lgbm = lgbm.predict_proba(test)\n",
    "test_xgbc = xgbc.predict_proba(test)\n",
    "test_grbc = grbc.predict_proba(test_X)"
   ]
  },
  {
   "cell_type": "code",
   "execution_count": 1012,
   "metadata": {
    "collapsed": true
   },
   "outputs": [],
   "source": [
    "tf[0] = pd.DataFrame(test_forest[:,1])\n",
    "tf[1] = pd.DataFrame(test_lgbm[:,1])\n",
    "tf[2] = pd.DataFrame(test_xgbc[:,1])\n",
    "tf[3] = pd.DataFrame(test_grbc[:,1])"
   ]
  },
  {
   "cell_type": "code",
   "execution_count": 1013,
   "metadata": {
    "collapsed": true
   },
   "outputs": [],
   "source": [
    "tf = tf.fillna(0)"
   ]
  },
  {
   "cell_type": "code",
   "execution_count": 1014,
   "metadata": {},
   "outputs": [
    {
     "data": {
      "text/html": [
       "<div>\n",
       "<style>\n",
       "    .dataframe thead tr:only-child th {\n",
       "        text-align: right;\n",
       "    }\n",
       "\n",
       "    .dataframe thead th {\n",
       "        text-align: left;\n",
       "    }\n",
       "\n",
       "    .dataframe tbody tr th {\n",
       "        vertical-align: top;\n",
       "    }\n",
       "</style>\n",
       "<table border=\"1\" class=\"dataframe\">\n",
       "  <thead>\n",
       "    <tr style=\"text-align: right;\">\n",
       "      <th></th>\n",
       "      <th>D1</th>\n",
       "      <th>D2</th>\n",
       "      <th>D3</th>\n",
       "      <th>D4</th>\n",
       "      <th>D5</th>\n",
       "      <th>D6</th>\n",
       "      <th>D7</th>\n",
       "      <th>D8</th>\n",
       "      <th>D9</th>\n",
       "      <th>D10</th>\n",
       "      <th>...</th>\n",
       "      <th>D1771</th>\n",
       "      <th>D1772</th>\n",
       "      <th>D1773</th>\n",
       "      <th>D1774</th>\n",
       "      <th>D1775</th>\n",
       "      <th>D1776</th>\n",
       "      <th>0</th>\n",
       "      <th>1</th>\n",
       "      <th>2</th>\n",
       "      <th>3</th>\n",
       "    </tr>\n",
       "  </thead>\n",
       "  <tbody>\n",
       "    <tr>\n",
       "      <th>0</th>\n",
       "      <td>0.366667</td>\n",
       "      <td>0.611765</td>\n",
       "      <td>0.05</td>\n",
       "      <td>0.0</td>\n",
       "      <td>0.110435</td>\n",
       "      <td>0.803973</td>\n",
       "      <td>0.106075</td>\n",
       "      <td>0.473965</td>\n",
       "      <td>0.835617</td>\n",
       "      <td>0.106452</td>\n",
       "      <td>...</td>\n",
       "      <td>0</td>\n",
       "      <td>1</td>\n",
       "      <td>0</td>\n",
       "      <td>0</td>\n",
       "      <td>1</td>\n",
       "      <td>0</td>\n",
       "      <td>0.816</td>\n",
       "      <td>0.892162</td>\n",
       "      <td>0.883500</td>\n",
       "      <td>0.735400</td>\n",
       "    </tr>\n",
       "    <tr>\n",
       "      <th>1</th>\n",
       "      <td>0.100000</td>\n",
       "      <td>0.758175</td>\n",
       "      <td>0.30</td>\n",
       "      <td>0.0</td>\n",
       "      <td>0.180128</td>\n",
       "      <td>0.621378</td>\n",
       "      <td>0.287144</td>\n",
       "      <td>0.503919</td>\n",
       "      <td>0.674919</td>\n",
       "      <td>0.403616</td>\n",
       "      <td>...</td>\n",
       "      <td>0</td>\n",
       "      <td>0</td>\n",
       "      <td>0</td>\n",
       "      <td>0</td>\n",
       "      <td>0</td>\n",
       "      <td>0</td>\n",
       "      <td>0.893</td>\n",
       "      <td>0.988865</td>\n",
       "      <td>0.990358</td>\n",
       "      <td>0.067280</td>\n",
       "    </tr>\n",
       "    <tr>\n",
       "      <th>2</th>\n",
       "      <td>0.100000</td>\n",
       "      <td>0.658812</td>\n",
       "      <td>0.10</td>\n",
       "      <td>0.0</td>\n",
       "      <td>0.243421</td>\n",
       "      <td>0.640959</td>\n",
       "      <td>0.312765</td>\n",
       "      <td>0.279784</td>\n",
       "      <td>0.686775</td>\n",
       "      <td>0.280301</td>\n",
       "      <td>...</td>\n",
       "      <td>0</td>\n",
       "      <td>0</td>\n",
       "      <td>0</td>\n",
       "      <td>0</td>\n",
       "      <td>0</td>\n",
       "      <td>0</td>\n",
       "      <td>0.586</td>\n",
       "      <td>0.450464</td>\n",
       "      <td>0.659976</td>\n",
       "      <td>0.062815</td>\n",
       "    </tr>\n",
       "    <tr>\n",
       "      <th>3</th>\n",
       "      <td>0.100000</td>\n",
       "      <td>0.655752</td>\n",
       "      <td>0.10</td>\n",
       "      <td>0.0</td>\n",
       "      <td>0.226978</td>\n",
       "      <td>0.776996</td>\n",
       "      <td>0.150657</td>\n",
       "      <td>0.336948</td>\n",
       "      <td>0.802121</td>\n",
       "      <td>0.125608</td>\n",
       "      <td>...</td>\n",
       "      <td>0</td>\n",
       "      <td>0</td>\n",
       "      <td>0</td>\n",
       "      <td>0</td>\n",
       "      <td>0</td>\n",
       "      <td>0</td>\n",
       "      <td>0.960</td>\n",
       "      <td>0.992442</td>\n",
       "      <td>0.983976</td>\n",
       "      <td>0.976448</td>\n",
       "    </tr>\n",
       "    <tr>\n",
       "      <th>4</th>\n",
       "      <td>0.000000</td>\n",
       "      <td>0.484851</td>\n",
       "      <td>0.00</td>\n",
       "      <td>0.0</td>\n",
       "      <td>0.561200</td>\n",
       "      <td>0.771463</td>\n",
       "      <td>0.244287</td>\n",
       "      <td>0.293096</td>\n",
       "      <td>0.717575</td>\n",
       "      <td>0.230842</td>\n",
       "      <td>...</td>\n",
       "      <td>0</td>\n",
       "      <td>0</td>\n",
       "      <td>0</td>\n",
       "      <td>0</td>\n",
       "      <td>0</td>\n",
       "      <td>0</td>\n",
       "      <td>0.280</td>\n",
       "      <td>0.013182</td>\n",
       "      <td>0.012059</td>\n",
       "      <td>0.980446</td>\n",
       "    </tr>\n",
       "  </tbody>\n",
       "</table>\n",
       "<p>5 rows × 1780 columns</p>\n",
       "</div>"
      ],
      "text/plain": [
       "         D1        D2    D3   D4        D5        D6        D7        D8  \\\n",
       "0  0.366667  0.611765  0.05  0.0  0.110435  0.803973  0.106075  0.473965   \n",
       "1  0.100000  0.758175  0.30  0.0  0.180128  0.621378  0.287144  0.503919   \n",
       "2  0.100000  0.658812  0.10  0.0  0.243421  0.640959  0.312765  0.279784   \n",
       "3  0.100000  0.655752  0.10  0.0  0.226978  0.776996  0.150657  0.336948   \n",
       "4  0.000000  0.484851  0.00  0.0  0.561200  0.771463  0.244287  0.293096   \n",
       "\n",
       "         D9       D10    ...     D1771  D1772  D1773  D1774  D1775  D1776  \\\n",
       "0  0.835617  0.106452    ...         0      1      0      0      1      0   \n",
       "1  0.674919  0.403616    ...         0      0      0      0      0      0   \n",
       "2  0.686775  0.280301    ...         0      0      0      0      0      0   \n",
       "3  0.802121  0.125608    ...         0      0      0      0      0      0   \n",
       "4  0.717575  0.230842    ...         0      0      0      0      0      0   \n",
       "\n",
       "       0         1         2         3  \n",
       "0  0.816  0.892162  0.883500  0.735400  \n",
       "1  0.893  0.988865  0.990358  0.067280  \n",
       "2  0.586  0.450464  0.659976  0.062815  \n",
       "3  0.960  0.992442  0.983976  0.976448  \n",
       "4  0.280  0.013182  0.012059  0.980446  \n",
       "\n",
       "[5 rows x 1780 columns]"
      ]
     },
     "execution_count": 1014,
     "metadata": {},
     "output_type": "execute_result"
    }
   ],
   "source": [
    "tf.head()"
   ]
  },
  {
   "cell_type": "code",
   "execution_count": 1025,
   "metadata": {},
   "outputs": [],
   "source": [
    "pred = lgbm_.predict_proba(tf)"
   ]
  },
  {
   "cell_type": "code",
   "execution_count": 1026,
   "metadata": {},
   "outputs": [],
   "source": [
    "submit = pd.DataFrame(pred, columns=lgbm_.classes_)"
   ]
  },
  {
   "cell_type": "code",
   "execution_count": 1027,
   "metadata": {
    "collapsed": true
   },
   "outputs": [],
   "source": [
    "submit.index += 1"
   ]
  },
  {
   "cell_type": "code",
   "execution_count": 1028,
   "metadata": {},
   "outputs": [],
   "source": [
    "submit = submit.iloc[:,1]"
   ]
  },
  {
   "cell_type": "code",
   "execution_count": 1029,
   "metadata": {},
   "outputs": [
    {
     "data": {
      "text/plain": [
       "1    0.881515\n",
       "2    0.990310\n",
       "3    0.485185\n",
       "4    0.990072\n",
       "5    0.016068\n",
       "Name: 1, dtype: float64"
      ]
     },
     "execution_count": 1029,
     "metadata": {},
     "output_type": "execute_result"
    }
   ],
   "source": [
    "submit.head()"
   ]
  },
  {
   "cell_type": "code",
   "execution_count": 1030,
   "metadata": {
    "collapsed": true
   },
   "outputs": [],
   "source": [
    "submit.to_csv('data/submit_lgbm_.csv')"
   ]
  },
  {
   "cell_type": "code",
   "execution_count": null,
   "metadata": {
    "collapsed": true
   },
   "outputs": [],
   "source": []
  }
 ],
 "metadata": {
  "kernelspec": {
   "display_name": "Python 3",
   "language": "python",
   "name": "python3"
  },
  "language_info": {
   "codemirror_mode": {
    "name": "ipython",
    "version": 3
   },
   "file_extension": ".py",
   "mimetype": "text/x-python",
   "name": "python",
   "nbconvert_exporter": "python",
   "pygments_lexer": "ipython3",
   "version": "3.6.2"
  }
 },
 "nbformat": 4,
 "nbformat_minor": 2
}
